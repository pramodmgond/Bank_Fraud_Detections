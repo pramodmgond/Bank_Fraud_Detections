{
 "cells": [
  {
   "cell_type": "markdown",
   "id": "e70303f5",
   "metadata": {},
   "source": [
    "# Fraud Detection"
   ]
  },
  {
   "cell_type": "code",
   "execution_count": 1,
   "id": "7255dca1",
   "metadata": {},
   "outputs": [],
   "source": [
    "import pandas as pd \n",
    "import numpy as np \n",
    "import seaborn as sns \n",
    "import matplotlib.pyplot as plt\n",
    "\n",
    "from sklearn.model_selection import train_test_split\n",
    "from sklearn.preprocessing import StandardScaler\n",
    "\n",
    "from sklearn.tree import DecisionTreeClassifier \n",
    "from sklearn.metrics import classification_report , accuracy_score, confusion_matrix\n",
    "\n",
    "from sklearn.ensemble import RandomForestClassifier\n"
   ]
  },
  {
   "cell_type": "code",
   "execution_count": 2,
   "id": "3a47dbd1",
   "metadata": {},
   "outputs": [
    {
     "data": {
      "text/plain": [
       "(6362620, 11)"
      ]
     },
     "execution_count": 2,
     "metadata": {},
     "output_type": "execute_result"
    }
   ],
   "source": [
    "df = pd.read_csv('Fraud.csv') # reading dataset\n",
    "df.shape"
   ]
  },
  {
   "cell_type": "code",
   "execution_count": 3,
   "id": "77eeb23b",
   "metadata": {},
   "outputs": [
    {
     "data": {
      "text/html": [
       "<div>\n",
       "<style scoped>\n",
       "    .dataframe tbody tr th:only-of-type {\n",
       "        vertical-align: middle;\n",
       "    }\n",
       "\n",
       "    .dataframe tbody tr th {\n",
       "        vertical-align: top;\n",
       "    }\n",
       "\n",
       "    .dataframe thead th {\n",
       "        text-align: right;\n",
       "    }\n",
       "</style>\n",
       "<table border=\"1\" class=\"dataframe\">\n",
       "  <thead>\n",
       "    <tr style=\"text-align: right;\">\n",
       "      <th></th>\n",
       "      <th>step</th>\n",
       "      <th>type</th>\n",
       "      <th>amount</th>\n",
       "      <th>nameOrig</th>\n",
       "      <th>oldbalanceOrg</th>\n",
       "      <th>newbalanceOrig</th>\n",
       "      <th>nameDest</th>\n",
       "      <th>oldbalanceDest</th>\n",
       "      <th>newbalanceDest</th>\n",
       "      <th>isFraud</th>\n",
       "      <th>isFlaggedFraud</th>\n",
       "    </tr>\n",
       "  </thead>\n",
       "  <tbody>\n",
       "    <tr>\n",
       "      <th>0</th>\n",
       "      <td>1</td>\n",
       "      <td>PAYMENT</td>\n",
       "      <td>9839.64</td>\n",
       "      <td>C1231006815</td>\n",
       "      <td>170136.0</td>\n",
       "      <td>160296.36</td>\n",
       "      <td>M1979787155</td>\n",
       "      <td>0.0</td>\n",
       "      <td>0.0</td>\n",
       "      <td>0</td>\n",
       "      <td>0</td>\n",
       "    </tr>\n",
       "    <tr>\n",
       "      <th>1</th>\n",
       "      <td>1</td>\n",
       "      <td>PAYMENT</td>\n",
       "      <td>1864.28</td>\n",
       "      <td>C1666544295</td>\n",
       "      <td>21249.0</td>\n",
       "      <td>19384.72</td>\n",
       "      <td>M2044282225</td>\n",
       "      <td>0.0</td>\n",
       "      <td>0.0</td>\n",
       "      <td>0</td>\n",
       "      <td>0</td>\n",
       "    </tr>\n",
       "    <tr>\n",
       "      <th>2</th>\n",
       "      <td>1</td>\n",
       "      <td>TRANSFER</td>\n",
       "      <td>181.00</td>\n",
       "      <td>C1305486145</td>\n",
       "      <td>181.0</td>\n",
       "      <td>0.00</td>\n",
       "      <td>C553264065</td>\n",
       "      <td>0.0</td>\n",
       "      <td>0.0</td>\n",
       "      <td>1</td>\n",
       "      <td>0</td>\n",
       "    </tr>\n",
       "    <tr>\n",
       "      <th>3</th>\n",
       "      <td>1</td>\n",
       "      <td>CASH_OUT</td>\n",
       "      <td>181.00</td>\n",
       "      <td>C840083671</td>\n",
       "      <td>181.0</td>\n",
       "      <td>0.00</td>\n",
       "      <td>C38997010</td>\n",
       "      <td>21182.0</td>\n",
       "      <td>0.0</td>\n",
       "      <td>1</td>\n",
       "      <td>0</td>\n",
       "    </tr>\n",
       "    <tr>\n",
       "      <th>4</th>\n",
       "      <td>1</td>\n",
       "      <td>PAYMENT</td>\n",
       "      <td>11668.14</td>\n",
       "      <td>C2048537720</td>\n",
       "      <td>41554.0</td>\n",
       "      <td>29885.86</td>\n",
       "      <td>M1230701703</td>\n",
       "      <td>0.0</td>\n",
       "      <td>0.0</td>\n",
       "      <td>0</td>\n",
       "      <td>0</td>\n",
       "    </tr>\n",
       "  </tbody>\n",
       "</table>\n",
       "</div>"
      ],
      "text/plain": [
       "   step      type    amount     nameOrig  oldbalanceOrg  newbalanceOrig  \\\n",
       "0     1   PAYMENT   9839.64  C1231006815       170136.0       160296.36   \n",
       "1     1   PAYMENT   1864.28  C1666544295        21249.0        19384.72   \n",
       "2     1  TRANSFER    181.00  C1305486145          181.0            0.00   \n",
       "3     1  CASH_OUT    181.00   C840083671          181.0            0.00   \n",
       "4     1   PAYMENT  11668.14  C2048537720        41554.0        29885.86   \n",
       "\n",
       "      nameDest  oldbalanceDest  newbalanceDest  isFraud  isFlaggedFraud  \n",
       "0  M1979787155             0.0             0.0        0               0  \n",
       "1  M2044282225             0.0             0.0        0               0  \n",
       "2   C553264065             0.0             0.0        1               0  \n",
       "3    C38997010         21182.0             0.0        1               0  \n",
       "4  M1230701703             0.0             0.0        0               0  "
      ]
     },
     "execution_count": 3,
     "metadata": {},
     "output_type": "execute_result"
    }
   ],
   "source": [
    "df.head() # first five records"
   ]
  },
  {
   "cell_type": "code",
   "execution_count": 4,
   "id": "39f48c8f",
   "metadata": {},
   "outputs": [
    {
     "data": {
      "text/plain": [
       "step                int64\n",
       "type               object\n",
       "amount            float64\n",
       "nameOrig           object\n",
       "oldbalanceOrg     float64\n",
       "newbalanceOrig    float64\n",
       "nameDest           object\n",
       "oldbalanceDest    float64\n",
       "newbalanceDest    float64\n",
       "isFraud             int64\n",
       "isFlaggedFraud      int64\n",
       "dtype: object"
      ]
     },
     "execution_count": 4,
     "metadata": {},
     "output_type": "execute_result"
    }
   ],
   "source": [
    "df.dtypes # type of variables "
   ]
  },
  {
   "cell_type": "code",
   "execution_count": 6,
   "id": "d8a22308",
   "metadata": {},
   "outputs": [
    {
     "name": "stdout",
     "output_type": "stream",
     "text": [
      "step : 0\n",
      "type : 0\n",
      "amount : 0\n",
      "nameOrig : 0\n",
      "oldbalanceOrg : 0\n",
      "newbalanceOrig : 0\n",
      "nameDest : 0\n",
      "oldbalanceDest : 0\n",
      "newbalanceDest : 0\n",
      "isFraud : 0\n",
      "isFlaggedFraud : 0\n"
     ]
    }
   ],
   "source": [
    "# checking null values in the dataset\n",
    "print('number of null values in each features')\n",
    "for col in df.columns :\n",
    "    print(col, ':', df[col].isnull().sum())"
   ]
  },
  {
   "cell_type": "code",
   "execution_count": 7,
   "id": "b132c36b",
   "metadata": {},
   "outputs": [
    {
     "data": {
      "text/html": [
       "<div>\n",
       "<style scoped>\n",
       "    .dataframe tbody tr th:only-of-type {\n",
       "        vertical-align: middle;\n",
       "    }\n",
       "\n",
       "    .dataframe tbody tr th {\n",
       "        vertical-align: top;\n",
       "    }\n",
       "\n",
       "    .dataframe thead th {\n",
       "        text-align: right;\n",
       "    }\n",
       "</style>\n",
       "<table border=\"1\" class=\"dataframe\">\n",
       "  <thead>\n",
       "    <tr style=\"text-align: right;\">\n",
       "      <th></th>\n",
       "      <th>step</th>\n",
       "      <th>amount</th>\n",
       "      <th>oldbalanceOrg</th>\n",
       "      <th>newbalanceOrig</th>\n",
       "      <th>oldbalanceDest</th>\n",
       "      <th>newbalanceDest</th>\n",
       "      <th>isFraud</th>\n",
       "      <th>isFlaggedFraud</th>\n",
       "    </tr>\n",
       "  </thead>\n",
       "  <tbody>\n",
       "    <tr>\n",
       "      <th>count</th>\n",
       "      <td>6.362620e+06</td>\n",
       "      <td>6.362620e+06</td>\n",
       "      <td>6.362620e+06</td>\n",
       "      <td>6.362620e+06</td>\n",
       "      <td>6.362620e+06</td>\n",
       "      <td>6.362620e+06</td>\n",
       "      <td>6.362620e+06</td>\n",
       "      <td>6.362620e+06</td>\n",
       "    </tr>\n",
       "    <tr>\n",
       "      <th>mean</th>\n",
       "      <td>2.433972e+02</td>\n",
       "      <td>1.798619e+05</td>\n",
       "      <td>8.338831e+05</td>\n",
       "      <td>8.551137e+05</td>\n",
       "      <td>1.100702e+06</td>\n",
       "      <td>1.224996e+06</td>\n",
       "      <td>1.290820e-03</td>\n",
       "      <td>2.514687e-06</td>\n",
       "    </tr>\n",
       "    <tr>\n",
       "      <th>std</th>\n",
       "      <td>1.423320e+02</td>\n",
       "      <td>6.038582e+05</td>\n",
       "      <td>2.888243e+06</td>\n",
       "      <td>2.924049e+06</td>\n",
       "      <td>3.399180e+06</td>\n",
       "      <td>3.674129e+06</td>\n",
       "      <td>3.590480e-02</td>\n",
       "      <td>1.585775e-03</td>\n",
       "    </tr>\n",
       "    <tr>\n",
       "      <th>min</th>\n",
       "      <td>1.000000e+00</td>\n",
       "      <td>0.000000e+00</td>\n",
       "      <td>0.000000e+00</td>\n",
       "      <td>0.000000e+00</td>\n",
       "      <td>0.000000e+00</td>\n",
       "      <td>0.000000e+00</td>\n",
       "      <td>0.000000e+00</td>\n",
       "      <td>0.000000e+00</td>\n",
       "    </tr>\n",
       "    <tr>\n",
       "      <th>25%</th>\n",
       "      <td>1.560000e+02</td>\n",
       "      <td>1.338957e+04</td>\n",
       "      <td>0.000000e+00</td>\n",
       "      <td>0.000000e+00</td>\n",
       "      <td>0.000000e+00</td>\n",
       "      <td>0.000000e+00</td>\n",
       "      <td>0.000000e+00</td>\n",
       "      <td>0.000000e+00</td>\n",
       "    </tr>\n",
       "    <tr>\n",
       "      <th>50%</th>\n",
       "      <td>2.390000e+02</td>\n",
       "      <td>7.487194e+04</td>\n",
       "      <td>1.420800e+04</td>\n",
       "      <td>0.000000e+00</td>\n",
       "      <td>1.327057e+05</td>\n",
       "      <td>2.146614e+05</td>\n",
       "      <td>0.000000e+00</td>\n",
       "      <td>0.000000e+00</td>\n",
       "    </tr>\n",
       "    <tr>\n",
       "      <th>75%</th>\n",
       "      <td>3.350000e+02</td>\n",
       "      <td>2.087215e+05</td>\n",
       "      <td>1.073152e+05</td>\n",
       "      <td>1.442584e+05</td>\n",
       "      <td>9.430367e+05</td>\n",
       "      <td>1.111909e+06</td>\n",
       "      <td>0.000000e+00</td>\n",
       "      <td>0.000000e+00</td>\n",
       "    </tr>\n",
       "    <tr>\n",
       "      <th>max</th>\n",
       "      <td>7.430000e+02</td>\n",
       "      <td>9.244552e+07</td>\n",
       "      <td>5.958504e+07</td>\n",
       "      <td>4.958504e+07</td>\n",
       "      <td>3.560159e+08</td>\n",
       "      <td>3.561793e+08</td>\n",
       "      <td>1.000000e+00</td>\n",
       "      <td>1.000000e+00</td>\n",
       "    </tr>\n",
       "  </tbody>\n",
       "</table>\n",
       "</div>"
      ],
      "text/plain": [
       "               step        amount  oldbalanceOrg  newbalanceOrig  \\\n",
       "count  6.362620e+06  6.362620e+06   6.362620e+06    6.362620e+06   \n",
       "mean   2.433972e+02  1.798619e+05   8.338831e+05    8.551137e+05   \n",
       "std    1.423320e+02  6.038582e+05   2.888243e+06    2.924049e+06   \n",
       "min    1.000000e+00  0.000000e+00   0.000000e+00    0.000000e+00   \n",
       "25%    1.560000e+02  1.338957e+04   0.000000e+00    0.000000e+00   \n",
       "50%    2.390000e+02  7.487194e+04   1.420800e+04    0.000000e+00   \n",
       "75%    3.350000e+02  2.087215e+05   1.073152e+05    1.442584e+05   \n",
       "max    7.430000e+02  9.244552e+07   5.958504e+07    4.958504e+07   \n",
       "\n",
       "       oldbalanceDest  newbalanceDest       isFraud  isFlaggedFraud  \n",
       "count    6.362620e+06    6.362620e+06  6.362620e+06    6.362620e+06  \n",
       "mean     1.100702e+06    1.224996e+06  1.290820e-03    2.514687e-06  \n",
       "std      3.399180e+06    3.674129e+06  3.590480e-02    1.585775e-03  \n",
       "min      0.000000e+00    0.000000e+00  0.000000e+00    0.000000e+00  \n",
       "25%      0.000000e+00    0.000000e+00  0.000000e+00    0.000000e+00  \n",
       "50%      1.327057e+05    2.146614e+05  0.000000e+00    0.000000e+00  \n",
       "75%      9.430367e+05    1.111909e+06  0.000000e+00    0.000000e+00  \n",
       "max      3.560159e+08    3.561793e+08  1.000000e+00    1.000000e+00  "
      ]
     },
     "execution_count": 7,
     "metadata": {},
     "output_type": "execute_result"
    }
   ],
   "source": [
    "df.describe() #statistical summary of a DataFrame for numerical variables "
   ]
  },
  {
   "cell_type": "code",
   "execution_count": 8,
   "id": "ab8f9c0b",
   "metadata": {},
   "outputs": [
    {
     "data": {
      "text/html": [
       "<div>\n",
       "<style scoped>\n",
       "    .dataframe tbody tr th:only-of-type {\n",
       "        vertical-align: middle;\n",
       "    }\n",
       "\n",
       "    .dataframe tbody tr th {\n",
       "        vertical-align: top;\n",
       "    }\n",
       "\n",
       "    .dataframe thead th {\n",
       "        text-align: right;\n",
       "    }\n",
       "</style>\n",
       "<table border=\"1\" class=\"dataframe\">\n",
       "  <thead>\n",
       "    <tr style=\"text-align: right;\">\n",
       "      <th></th>\n",
       "      <th>count</th>\n",
       "      <th>unique</th>\n",
       "      <th>top</th>\n",
       "      <th>freq</th>\n",
       "    </tr>\n",
       "  </thead>\n",
       "  <tbody>\n",
       "    <tr>\n",
       "      <th>type</th>\n",
       "      <td>6362620</td>\n",
       "      <td>5</td>\n",
       "      <td>CASH_OUT</td>\n",
       "      <td>2237500</td>\n",
       "    </tr>\n",
       "    <tr>\n",
       "      <th>nameOrig</th>\n",
       "      <td>6362620</td>\n",
       "      <td>6353307</td>\n",
       "      <td>C1902386530</td>\n",
       "      <td>3</td>\n",
       "    </tr>\n",
       "    <tr>\n",
       "      <th>nameDest</th>\n",
       "      <td>6362620</td>\n",
       "      <td>2722362</td>\n",
       "      <td>C1286084959</td>\n",
       "      <td>113</td>\n",
       "    </tr>\n",
       "  </tbody>\n",
       "</table>\n",
       "</div>"
      ],
      "text/plain": [
       "            count   unique          top     freq\n",
       "type      6362620        5     CASH_OUT  2237500\n",
       "nameOrig  6362620  6353307  C1902386530        3\n",
       "nameDest  6362620  2722362  C1286084959      113"
      ]
     },
     "execution_count": 8,
     "metadata": {},
     "output_type": "execute_result"
    }
   ],
   "source": [
    "df.describe(include = 'O').T # statistical summary of a DataFrame for categorical varibles"
   ]
  },
  {
   "cell_type": "code",
   "execution_count": 9,
   "id": "0f7cb92b",
   "metadata": {},
   "outputs": [
    {
     "data": {
      "text/plain": [
       "['type', 'nameOrig', 'nameDest']"
      ]
     },
     "execution_count": 9,
     "metadata": {},
     "output_type": "execute_result"
    }
   ],
   "source": [
    "cat_var = [feature for feature in df.columns if df[feature].dtypes == 'O' ]\n",
    "cat_var # seperating categorical variables "
   ]
  },
  {
   "cell_type": "code",
   "execution_count": 10,
   "id": "13b07b0b",
   "metadata": {},
   "outputs": [
    {
     "data": {
      "text/plain": [
       "['step',\n",
       " 'amount',\n",
       " 'oldbalanceOrg',\n",
       " 'newbalanceOrig',\n",
       " 'oldbalanceDest',\n",
       " 'newbalanceDest',\n",
       " 'isFraud',\n",
       " 'isFlaggedFraud']"
      ]
     },
     "execution_count": 10,
     "metadata": {},
     "output_type": "execute_result"
    }
   ],
   "source": [
    "num_var = [feature for feature in df.columns if feature not in cat_var]\n",
    "num_var  # seperating numerical variables "
   ]
  },
  {
   "cell_type": "code",
   "execution_count": 11,
   "id": "d4cfb150",
   "metadata": {},
   "outputs": [
    {
     "name": "stdout",
     "output_type": "stream",
     "text": [
      "step : 743\n",
      "type : 5\n",
      "amount : 5316900\n",
      "nameOrig : 6353307\n",
      "oldbalanceOrg : 1845844\n",
      "newbalanceOrig : 2682586\n",
      "nameDest : 2722362\n",
      "oldbalanceDest : 3614697\n",
      "newbalanceDest : 3555499\n",
      "isFraud : 2\n",
      "isFlaggedFraud : 2\n"
     ]
    }
   ],
   "source": [
    "for col in df.columns :\n",
    "    print(col,':',df[col].nunique())  # number of unique values in each column"
   ]
  },
  {
   "cell_type": "code",
   "execution_count": 15,
   "id": "6f23dbf3",
   "metadata": {},
   "outputs": [
    {
     "name": "stdout",
     "output_type": "stream",
     "text": [
      "(6362620, 11)\n"
     ]
    }
   ],
   "source": [
    "df.drop_duplicates(keep = 'first',inplace=True) # checking duplicate record \n",
    "print(df.shape)"
   ]
  },
  {
   "cell_type": "code",
   "execution_count": 16,
   "id": "40afa4c4",
   "metadata": {},
   "outputs": [
    {
     "data": {
      "text/html": [
       "<div>\n",
       "<style scoped>\n",
       "    .dataframe tbody tr th:only-of-type {\n",
       "        vertical-align: middle;\n",
       "    }\n",
       "\n",
       "    .dataframe tbody tr th {\n",
       "        vertical-align: top;\n",
       "    }\n",
       "\n",
       "    .dataframe thead th {\n",
       "        text-align: right;\n",
       "    }\n",
       "</style>\n",
       "<table border=\"1\" class=\"dataframe\">\n",
       "  <thead>\n",
       "    <tr style=\"text-align: right;\">\n",
       "      <th></th>\n",
       "      <th>step</th>\n",
       "      <th>type</th>\n",
       "      <th>amount</th>\n",
       "      <th>nameOrig</th>\n",
       "      <th>oldbalanceOrg</th>\n",
       "      <th>newbalanceOrig</th>\n",
       "      <th>nameDest</th>\n",
       "      <th>oldbalanceDest</th>\n",
       "      <th>newbalanceDest</th>\n",
       "      <th>isFraud</th>\n",
       "      <th>isFlaggedFraud</th>\n",
       "    </tr>\n",
       "  </thead>\n",
       "  <tbody>\n",
       "    <tr>\n",
       "      <th>0</th>\n",
       "      <td>1</td>\n",
       "      <td>PAYMENT</td>\n",
       "      <td>9839.64</td>\n",
       "      <td>C1231006815</td>\n",
       "      <td>170136.0</td>\n",
       "      <td>160296.36</td>\n",
       "      <td>M1979787155</td>\n",
       "      <td>0.0</td>\n",
       "      <td>0.0</td>\n",
       "      <td>0</td>\n",
       "      <td>0</td>\n",
       "    </tr>\n",
       "    <tr>\n",
       "      <th>1</th>\n",
       "      <td>1</td>\n",
       "      <td>PAYMENT</td>\n",
       "      <td>1864.28</td>\n",
       "      <td>C1666544295</td>\n",
       "      <td>21249.0</td>\n",
       "      <td>19384.72</td>\n",
       "      <td>M2044282225</td>\n",
       "      <td>0.0</td>\n",
       "      <td>0.0</td>\n",
       "      <td>0</td>\n",
       "      <td>0</td>\n",
       "    </tr>\n",
       "    <tr>\n",
       "      <th>4</th>\n",
       "      <td>1</td>\n",
       "      <td>PAYMENT</td>\n",
       "      <td>11668.14</td>\n",
       "      <td>C2048537720</td>\n",
       "      <td>41554.0</td>\n",
       "      <td>29885.86</td>\n",
       "      <td>M1230701703</td>\n",
       "      <td>0.0</td>\n",
       "      <td>0.0</td>\n",
       "      <td>0</td>\n",
       "      <td>0</td>\n",
       "    </tr>\n",
       "    <tr>\n",
       "      <th>5</th>\n",
       "      <td>1</td>\n",
       "      <td>PAYMENT</td>\n",
       "      <td>7817.71</td>\n",
       "      <td>C90045638</td>\n",
       "      <td>53860.0</td>\n",
       "      <td>46042.29</td>\n",
       "      <td>M573487274</td>\n",
       "      <td>0.0</td>\n",
       "      <td>0.0</td>\n",
       "      <td>0</td>\n",
       "      <td>0</td>\n",
       "    </tr>\n",
       "    <tr>\n",
       "      <th>6</th>\n",
       "      <td>1</td>\n",
       "      <td>PAYMENT</td>\n",
       "      <td>7107.77</td>\n",
       "      <td>C154988899</td>\n",
       "      <td>183195.0</td>\n",
       "      <td>176087.23</td>\n",
       "      <td>M408069119</td>\n",
       "      <td>0.0</td>\n",
       "      <td>0.0</td>\n",
       "      <td>0</td>\n",
       "      <td>0</td>\n",
       "    </tr>\n",
       "  </tbody>\n",
       "</table>\n",
       "</div>"
      ],
      "text/plain": [
       "   step     type    amount     nameOrig  oldbalanceOrg  newbalanceOrig  \\\n",
       "0     1  PAYMENT   9839.64  C1231006815       170136.0       160296.36   \n",
       "1     1  PAYMENT   1864.28  C1666544295        21249.0        19384.72   \n",
       "4     1  PAYMENT  11668.14  C2048537720        41554.0        29885.86   \n",
       "5     1  PAYMENT   7817.71    C90045638        53860.0        46042.29   \n",
       "6     1  PAYMENT   7107.77   C154988899       183195.0       176087.23   \n",
       "\n",
       "      nameDest  oldbalanceDest  newbalanceDest  isFraud  isFlaggedFraud  \n",
       "0  M1979787155             0.0             0.0        0               0  \n",
       "1  M2044282225             0.0             0.0        0               0  \n",
       "4  M1230701703             0.0             0.0        0               0  \n",
       "5   M573487274             0.0             0.0        0               0  \n",
       "6   M408069119             0.0             0.0        0               0  "
      ]
     },
     "execution_count": 16,
     "metadata": {},
     "output_type": "execute_result"
    }
   ],
   "source": [
    "# Merchants\n",
    "mer = df[df['nameDest'].str.contains('M')] #there is not information for customers that start with M (Merchants).\n",
    "                                            # for oldbalanceOrg and newbalanceOrig\n",
    "mer.head()"
   ]
  },
  {
   "cell_type": "code",
   "execution_count": 17,
   "id": "e2a59906",
   "metadata": {},
   "outputs": [
    {
     "data": {
      "text/plain": [
       "(2151495, 11)"
      ]
     },
     "execution_count": 17,
     "metadata": {},
     "output_type": "execute_result"
    }
   ],
   "source": [
    "mer.shape # total number of customers start with M (Merchants)."
   ]
  },
  {
   "cell_type": "code",
   "execution_count": 19,
   "id": "e318c1be",
   "metadata": {},
   "outputs": [
    {
     "name": "stderr",
     "output_type": "stream",
     "text": [
      "C:\\Users\\pramod\\AppData\\Local\\Temp\\ipykernel_10440\\126802512.py:1: FutureWarning: The default value of numeric_only in DataFrame.corr is deprecated. In a future version, it will default to False. Select only valid columns or specify the value of numeric_only to silence this warning.\n",
      "  corr=df.corr()\n"
     ]
    },
    {
     "data": {
      "text/plain": [
       "<Axes: >"
      ]
     },
     "execution_count": 19,
     "metadata": {},
     "output_type": "execute_result"
    },
    {
     "data": {
      "image/png": "[encoded data removed]",
      "text/plain": [
       "<Figure size 1000x600 with 2 Axes>"
      ]
     },
     "metadata": {},
     "output_type": "display_data"
    }
   ],
   "source": [
    "corr=df.corr() # correlation coefficients between all pairs of variables in the dataset\n",
    "\n",
    "plt.figure(figsize=(10,6))\n",
    "sns.heatmap(corr,annot=True)"
   ]
  },
  {
   "cell_type": "markdown",
   "id": "5e08352c",
   "metadata": {},
   "source": [
    "**oldbalanceDest and  newbalanceDest are highly correlated(0.98)**"
   ]
  },
  {
   "cell_type": "code",
   "execution_count": null,
   "id": "4262bc7e",
   "metadata": {},
   "outputs": [],
   "source": []
  },
  {
   "cell_type": "code",
   "execution_count": 20,
   "id": "60ffc3f2",
   "metadata": {},
   "outputs": [
    {
     "data": {
      "text/plain": [
       "0    6354407\n",
       "1       8213\n",
       "Name: isFraud, dtype: int64"
      ]
     },
     "execution_count": 20,
     "metadata": {},
     "output_type": "execute_result"
    }
   ],
   "source": [
    "count_classes = df['isFraud'].value_counts() #counts the number of occurrences of each unique value in the 'isFraud'\n",
    "count_classes"
   ]
  },
  {
   "cell_type": "markdown",
   "id": "2534c02e",
   "metadata": {},
   "source": [
    "**This dataset is imbalanced the non-fraudulent transactions represent 99% of the data and the fraudulent transactions represent 1%.**"
   ]
  },
  {
   "cell_type": "code",
   "execution_count": 21,
   "id": "f952a061",
   "metadata": {},
   "outputs": [
    {
     "data": {
      "image/png": "[encoded data removed]",
      "text/plain": [
       "<Figure size 400x400 with 1 Axes>"
      ]
     },
     "metadata": {},
     "output_type": "display_data"
    }
   ],
   "source": [
    "plt.figure(figsize=(4,4))\n",
    "labels = [\"Legit\", \"Fraud\"]\n",
    "count_classes = df['isFraud'].value_counts(normalize= True)*100\n",
    "count_classes.plot(kind = \"bar\", rot = 0)\n",
    "plt.title('Percentage of Fraudulent vs. Non-Fraudulent Transactions')\n",
    "plt.ylabel(\"Percentage\")\n",
    "plt.xlabel('Transaction Type')\n",
    "\n",
    "plt.xticks(range(2), labels)\n",
    "plt.show()"
   ]
  },
  {
   "cell_type": "code",
   "execution_count": 24,
   "id": "9b5402d6",
   "metadata": {},
   "outputs": [
    {
     "name": "stdout",
     "output_type": "stream",
     "text": [
      "Discrete Variables Count: 2 ['isFraud', 'isFlaggedFraud']\n"
     ]
    }
   ],
   "source": [
    "discrete_feature = [feature for feature in num_var if len(df[feature].unique())<15 and feature]\n",
    "print(\"Discrete Variables Count: {}\".format(len(discrete_feature)), discrete_feature)"
   ]
  },
  {
   "cell_type": "code",
   "execution_count": 25,
   "id": "e1ae3629",
   "metadata": {},
   "outputs": [
    {
     "name": "stdout",
     "output_type": "stream",
     "text": [
      "Continuous feature Count 6 ['step', 'amount', 'oldbalanceOrg', 'newbalanceOrig', 'oldbalanceDest', 'newbalanceDest']\n"
     ]
    }
   ],
   "source": [
    "continuous_feature=[feature for feature in num_var if feature  not in discrete_feature]\n",
    "print(\"Continuous feature Count {}\".format(len(continuous_feature)), continuous_feature)"
   ]
  },
  {
   "cell_type": "code",
   "execution_count": 26,
   "id": "ee4f30cc",
   "metadata": {},
   "outputs": [
    {
     "data": {
      "text/html": [
       "<div>\n",
       "<style scoped>\n",
       "    .dataframe tbody tr th:only-of-type {\n",
       "        vertical-align: middle;\n",
       "    }\n",
       "\n",
       "    .dataframe tbody tr th {\n",
       "        vertical-align: top;\n",
       "    }\n",
       "\n",
       "    .dataframe thead th {\n",
       "        text-align: right;\n",
       "    }\n",
       "</style>\n",
       "<table border=\"1\" class=\"dataframe\">\n",
       "  <thead>\n",
       "    <tr style=\"text-align: right;\">\n",
       "      <th></th>\n",
       "      <th>step</th>\n",
       "      <th>amount</th>\n",
       "      <th>oldbalanceOrg</th>\n",
       "      <th>newbalanceOrig</th>\n",
       "      <th>oldbalanceDest</th>\n",
       "      <th>newbalanceDest</th>\n",
       "    </tr>\n",
       "  </thead>\n",
       "  <tbody>\n",
       "    <tr>\n",
       "      <th>0</th>\n",
       "      <td>1</td>\n",
       "      <td>9839.64</td>\n",
       "      <td>170136.00</td>\n",
       "      <td>160296.36</td>\n",
       "      <td>0.00</td>\n",
       "      <td>0.00</td>\n",
       "    </tr>\n",
       "    <tr>\n",
       "      <th>1</th>\n",
       "      <td>1</td>\n",
       "      <td>1864.28</td>\n",
       "      <td>21249.00</td>\n",
       "      <td>19384.72</td>\n",
       "      <td>0.00</td>\n",
       "      <td>0.00</td>\n",
       "    </tr>\n",
       "    <tr>\n",
       "      <th>2</th>\n",
       "      <td>1</td>\n",
       "      <td>181.00</td>\n",
       "      <td>181.00</td>\n",
       "      <td>0.00</td>\n",
       "      <td>0.00</td>\n",
       "      <td>0.00</td>\n",
       "    </tr>\n",
       "    <tr>\n",
       "      <th>3</th>\n",
       "      <td>1</td>\n",
       "      <td>181.00</td>\n",
       "      <td>181.00</td>\n",
       "      <td>0.00</td>\n",
       "      <td>21182.00</td>\n",
       "      <td>0.00</td>\n",
       "    </tr>\n",
       "    <tr>\n",
       "      <th>4</th>\n",
       "      <td>1</td>\n",
       "      <td>11668.14</td>\n",
       "      <td>41554.00</td>\n",
       "      <td>29885.86</td>\n",
       "      <td>0.00</td>\n",
       "      <td>0.00</td>\n",
       "    </tr>\n",
       "    <tr>\n",
       "      <th>...</th>\n",
       "      <td>...</td>\n",
       "      <td>...</td>\n",
       "      <td>...</td>\n",
       "      <td>...</td>\n",
       "      <td>...</td>\n",
       "      <td>...</td>\n",
       "    </tr>\n",
       "    <tr>\n",
       "      <th>6362615</th>\n",
       "      <td>743</td>\n",
       "      <td>339682.13</td>\n",
       "      <td>339682.13</td>\n",
       "      <td>0.00</td>\n",
       "      <td>0.00</td>\n",
       "      <td>339682.13</td>\n",
       "    </tr>\n",
       "    <tr>\n",
       "      <th>6362616</th>\n",
       "      <td>743</td>\n",
       "      <td>6311409.28</td>\n",
       "      <td>6311409.28</td>\n",
       "      <td>0.00</td>\n",
       "      <td>0.00</td>\n",
       "      <td>0.00</td>\n",
       "    </tr>\n",
       "    <tr>\n",
       "      <th>6362617</th>\n",
       "      <td>743</td>\n",
       "      <td>6311409.28</td>\n",
       "      <td>6311409.28</td>\n",
       "      <td>0.00</td>\n",
       "      <td>68488.84</td>\n",
       "      <td>6379898.11</td>\n",
       "    </tr>\n",
       "    <tr>\n",
       "      <th>6362618</th>\n",
       "      <td>743</td>\n",
       "      <td>850002.52</td>\n",
       "      <td>850002.52</td>\n",
       "      <td>0.00</td>\n",
       "      <td>0.00</td>\n",
       "      <td>0.00</td>\n",
       "    </tr>\n",
       "    <tr>\n",
       "      <th>6362619</th>\n",
       "      <td>743</td>\n",
       "      <td>850002.52</td>\n",
       "      <td>850002.52</td>\n",
       "      <td>0.00</td>\n",
       "      <td>6510099.11</td>\n",
       "      <td>7360101.63</td>\n",
       "    </tr>\n",
       "  </tbody>\n",
       "</table>\n",
       "<p>6362620 rows × 6 columns</p>\n",
       "</div>"
      ],
      "text/plain": [
       "         step      amount  oldbalanceOrg  newbalanceOrig  oldbalanceDest  \\\n",
       "0           1     9839.64      170136.00       160296.36            0.00   \n",
       "1           1     1864.28       21249.00        19384.72            0.00   \n",
       "2           1      181.00         181.00            0.00            0.00   \n",
       "3           1      181.00         181.00            0.00        21182.00   \n",
       "4           1    11668.14       41554.00        29885.86            0.00   \n",
       "...       ...         ...            ...             ...             ...   \n",
       "6362615   743   339682.13      339682.13            0.00            0.00   \n",
       "6362616   743  6311409.28     6311409.28            0.00            0.00   \n",
       "6362617   743  6311409.28     6311409.28            0.00        68488.84   \n",
       "6362618   743   850002.52      850002.52            0.00            0.00   \n",
       "6362619   743   850002.52      850002.52            0.00      6510099.11   \n",
       "\n",
       "         newbalanceDest  \n",
       "0                  0.00  \n",
       "1                  0.00  \n",
       "2                  0.00  \n",
       "3                  0.00  \n",
       "4                  0.00  \n",
       "...                 ...  \n",
       "6362615       339682.13  \n",
       "6362616            0.00  \n",
       "6362617      6379898.11  \n",
       "6362618            0.00  \n",
       "6362619      7360101.63  \n",
       "\n",
       "[6362620 rows x 6 columns]"
      ]
     },
     "execution_count": 26,
     "metadata": {},
     "output_type": "execute_result"
    }
   ],
   "source": [
    "df[continuous_feature]"
   ]
  },
  {
   "cell_type": "markdown",
   "id": "74d60ae1",
   "metadata": {},
   "source": [
    "# Histogram, Variable quantiles and Boxplot"
   ]
  },
  {
   "cell_type": "code",
   "execution_count": 27,
   "id": "a2ad840e",
   "metadata": {},
   "outputs": [],
   "source": [
    "import scipy.stats as stats\n",
    "def diagnostic_plots(df, variable):\n",
    "    # function takes a dataframe (df) and\n",
    "    # the variable of interest as arguments\n",
    "\n",
    "    # define figure size\n",
    "    plt.figure(figsize=(16, 4))\n",
    "\n",
    "    # histogram\n",
    "    plt.subplot(1, 3, 1)\n",
    "    sns.histplot(df[variable], bins=30)\n",
    "    plt.title('Histogram')\n",
    "\n",
    "    # Q-Q plot\n",
    "    plt.subplot(1, 3, 2)\n",
    "    stats.probplot(df[variable], dist=\"norm\", plot=plt)\n",
    "    plt.ylabel('Variable quantiles')\n",
    "\n",
    "    # boxplot\n",
    "    plt.subplot(1, 3, 3)\n",
    "    sns.boxplot(y=df[variable])\n",
    "    plt.title('Boxplot')\n",
    "\n",
    "    plt.show()"
   ]
  },
  {
   "cell_type": "code",
   "execution_count": 28,
   "id": "342a18bd",
   "metadata": {},
   "outputs": [
    {
     "data": {
      "image/png": "[encoded data removed]",
      "text/plain": [
       "<Figure size 1600x400 with 3 Axes>"
      ]
     },
     "metadata": {},
     "output_type": "display_data"
    },
    {
     "data": {
      "image/png": "[encoded data removed]",
      "text/plain": [
       "<Figure size 1600x400 with 3 Axes>"
      ]
     },
     "metadata": {},
     "output_type": "display_data"
    },
    {
     "data": {
      "image/png": "[encoded data removed]",
      "text/plain": [
       "<Figure size 1600x400 with 3 Axes>"
      ]
     },
     "metadata": {},
     "output_type": "display_data"
    },
    {
     "data": {
      "image/png": "[encoded data removed]",
      "text/plain": [
       "<Figure size 1600x400 with 3 Axes>"
      ]
     },
     "metadata": {},
     "output_type": "display_data"
    },
    {
     "data": {
      "image/png": "[encoded data removed]",
      "text/plain": [
       "<Figure size 1600x400 with 3 Axes>"
      ]
     },
     "metadata": {},
     "output_type": "display_data"
    },
    {
     "data": {
      "image/png": "[encoded data removed]",
      "text/plain": [
       "<Figure size 1600x400 with 3 Axes>"
      ]
     },
     "metadata": {},
     "output_type": "display_data"
    }
   ],
   "source": [
    "for feature in continuous_feature :\n",
    "\n",
    "    diagnostic_plots(df, feature)"
   ]
  },
  {
   "cell_type": "markdown",
   "id": "98371533",
   "metadata": {},
   "source": [
    "# correlated features "
   ]
  },
  {
   "cell_type": "code",
   "execution_count": 29,
   "id": "7f65f648",
   "metadata": {},
   "outputs": [],
   "source": [
    "\n",
    "def correlation(dataset, threshold):\n",
    "    col_corr = set()  # Set of all the names of correlated columns , set does not allow duplicates\n",
    "    corr_matrix = dataset.corr()\n",
    "    print('Highly correlated features are listed below')\n",
    "    print()\n",
    "    for i in range(len(corr_matrix.columns)):\n",
    "        for j in range(i):\n",
    "\n",
    "            if (corr_matrix.iloc[i, j]) > threshold: \n",
    "                colnamei = corr_matrix.columns[i]  # getting the name of column\n",
    "                colnamej = corr_matrix.columns[j] \n",
    "                print(colnamei, ':',  colnamej, ':',corr_matrix.iloc[i, j] )\n",
    "                col_corr.add(colnamei)\n",
    "    print()\n",
    "    print('Total number of columns :', len(col_corr))\n",
    "    print()\n",
    "    return col_corr"
   ]
  },
  {
   "cell_type": "code",
   "execution_count": 30,
   "id": "632353fb",
   "metadata": {},
   "outputs": [
    {
     "name": "stderr",
     "output_type": "stream",
     "text": [
      "C:\\Users\\pramod\\AppData\\Local\\Temp\\ipykernel_10440\\2590375593.py:3: FutureWarning: The default value of numeric_only in DataFrame.corr is deprecated. In a future version, it will default to False. Select only valid columns or specify the value of numeric_only to silence this warning.\n",
      "  corr_matrix = dataset.corr()\n"
     ]
    },
    {
     "name": "stdout",
     "output_type": "stream",
     "text": [
      "Highly correlated features are listed below\n",
      "\n",
      "newbalanceOrig : oldbalanceOrg : 0.9988027631723787\n",
      "newbalanceDest : oldbalanceDest : 0.9765685054474923\n",
      "\n",
      "Total number of columns : 2\n",
      "\n",
      "{'newbalanceDest', 'newbalanceOrig'}\n"
     ]
    }
   ],
   "source": [
    "corr_features= correlation(df, 0.90)\n",
    "print(corr_features)"
   ]
  },
  {
   "cell_type": "markdown",
   "id": "99c0f95c",
   "metadata": {},
   "source": [
    "# Removing correlated features "
   ]
  },
  {
   "cell_type": "code",
   "execution_count": 32,
   "id": "e6fdbcec",
   "metadata": {},
   "outputs": [
    {
     "data": {
      "text/html": [
       "<div>\n",
       "<style scoped>\n",
       "    .dataframe tbody tr th:only-of-type {\n",
       "        vertical-align: middle;\n",
       "    }\n",
       "\n",
       "    .dataframe tbody tr th {\n",
       "        vertical-align: top;\n",
       "    }\n",
       "\n",
       "    .dataframe thead th {\n",
       "        text-align: right;\n",
       "    }\n",
       "</style>\n",
       "<table border=\"1\" class=\"dataframe\">\n",
       "  <thead>\n",
       "    <tr style=\"text-align: right;\">\n",
       "      <th></th>\n",
       "      <th>step</th>\n",
       "      <th>type</th>\n",
       "      <th>amount</th>\n",
       "      <th>nameOrig</th>\n",
       "      <th>oldbalanceOrg</th>\n",
       "      <th>nameDest</th>\n",
       "      <th>oldbalanceDest</th>\n",
       "      <th>isFraud</th>\n",
       "      <th>isFlaggedFraud</th>\n",
       "    </tr>\n",
       "  </thead>\n",
       "  <tbody>\n",
       "    <tr>\n",
       "      <th>0</th>\n",
       "      <td>1</td>\n",
       "      <td>PAYMENT</td>\n",
       "      <td>9839.64</td>\n",
       "      <td>C1231006815</td>\n",
       "      <td>170136.0</td>\n",
       "      <td>M1979787155</td>\n",
       "      <td>0.0</td>\n",
       "      <td>0</td>\n",
       "      <td>0</td>\n",
       "    </tr>\n",
       "    <tr>\n",
       "      <th>1</th>\n",
       "      <td>1</td>\n",
       "      <td>PAYMENT</td>\n",
       "      <td>1864.28</td>\n",
       "      <td>C1666544295</td>\n",
       "      <td>21249.0</td>\n",
       "      <td>M2044282225</td>\n",
       "      <td>0.0</td>\n",
       "      <td>0</td>\n",
       "      <td>0</td>\n",
       "    </tr>\n",
       "    <tr>\n",
       "      <th>2</th>\n",
       "      <td>1</td>\n",
       "      <td>TRANSFER</td>\n",
       "      <td>181.00</td>\n",
       "      <td>C1305486145</td>\n",
       "      <td>181.0</td>\n",
       "      <td>C553264065</td>\n",
       "      <td>0.0</td>\n",
       "      <td>1</td>\n",
       "      <td>0</td>\n",
       "    </tr>\n",
       "    <tr>\n",
       "      <th>3</th>\n",
       "      <td>1</td>\n",
       "      <td>CASH_OUT</td>\n",
       "      <td>181.00</td>\n",
       "      <td>C840083671</td>\n",
       "      <td>181.0</td>\n",
       "      <td>C38997010</td>\n",
       "      <td>21182.0</td>\n",
       "      <td>1</td>\n",
       "      <td>0</td>\n",
       "    </tr>\n",
       "    <tr>\n",
       "      <th>4</th>\n",
       "      <td>1</td>\n",
       "      <td>PAYMENT</td>\n",
       "      <td>11668.14</td>\n",
       "      <td>C2048537720</td>\n",
       "      <td>41554.0</td>\n",
       "      <td>M1230701703</td>\n",
       "      <td>0.0</td>\n",
       "      <td>0</td>\n",
       "      <td>0</td>\n",
       "    </tr>\n",
       "  </tbody>\n",
       "</table>\n",
       "</div>"
      ],
      "text/plain": [
       "   step      type    amount     nameOrig  oldbalanceOrg     nameDest  \\\n",
       "0     1   PAYMENT   9839.64  C1231006815       170136.0  M1979787155   \n",
       "1     1   PAYMENT   1864.28  C1666544295        21249.0  M2044282225   \n",
       "2     1  TRANSFER    181.00  C1305486145          181.0   C553264065   \n",
       "3     1  CASH_OUT    181.00   C840083671          181.0    C38997010   \n",
       "4     1   PAYMENT  11668.14  C2048537720        41554.0  M1230701703   \n",
       "\n",
       "   oldbalanceDest  isFraud  isFlaggedFraud  \n",
       "0             0.0        0               0  \n",
       "1             0.0        0               0  \n",
       "2             0.0        1               0  \n",
       "3         21182.0        1               0  \n",
       "4             0.0        0               0  "
      ]
     },
     "execution_count": 32,
     "metadata": {},
     "output_type": "execute_result"
    }
   ],
   "source": [
    "df1 = df.drop(corr_features,axis=1)\n",
    "df1.head()"
   ]
  },
  {
   "cell_type": "code",
   "execution_count": 36,
   "id": "05ad8aea",
   "metadata": {},
   "outputs": [
    {
     "data": {
      "text/html": [
       "<div>\n",
       "<style scoped>\n",
       "    .dataframe tbody tr th:only-of-type {\n",
       "        vertical-align: middle;\n",
       "    }\n",
       "\n",
       "    .dataframe tbody tr th {\n",
       "        vertical-align: top;\n",
       "    }\n",
       "\n",
       "    .dataframe thead th {\n",
       "        text-align: right;\n",
       "    }\n",
       "</style>\n",
       "<table border=\"1\" class=\"dataframe\">\n",
       "  <thead>\n",
       "    <tr style=\"text-align: right;\">\n",
       "      <th></th>\n",
       "      <th>step</th>\n",
       "      <th>type</th>\n",
       "      <th>amount</th>\n",
       "      <th>oldbalanceOrg</th>\n",
       "      <th>oldbalanceDest</th>\n",
       "      <th>isFraud</th>\n",
       "      <th>isFlaggedFraud</th>\n",
       "    </tr>\n",
       "  </thead>\n",
       "  <tbody>\n",
       "    <tr>\n",
       "      <th>0</th>\n",
       "      <td>1</td>\n",
       "      <td>PAYMENT</td>\n",
       "      <td>9839.64</td>\n",
       "      <td>170136.0</td>\n",
       "      <td>0.0</td>\n",
       "      <td>0</td>\n",
       "      <td>0</td>\n",
       "    </tr>\n",
       "    <tr>\n",
       "      <th>1</th>\n",
       "      <td>1</td>\n",
       "      <td>PAYMENT</td>\n",
       "      <td>1864.28</td>\n",
       "      <td>21249.0</td>\n",
       "      <td>0.0</td>\n",
       "      <td>0</td>\n",
       "      <td>0</td>\n",
       "    </tr>\n",
       "    <tr>\n",
       "      <th>2</th>\n",
       "      <td>1</td>\n",
       "      <td>TRANSFER</td>\n",
       "      <td>181.00</td>\n",
       "      <td>181.0</td>\n",
       "      <td>0.0</td>\n",
       "      <td>1</td>\n",
       "      <td>0</td>\n",
       "    </tr>\n",
       "    <tr>\n",
       "      <th>3</th>\n",
       "      <td>1</td>\n",
       "      <td>CASH_OUT</td>\n",
       "      <td>181.00</td>\n",
       "      <td>181.0</td>\n",
       "      <td>21182.0</td>\n",
       "      <td>1</td>\n",
       "      <td>0</td>\n",
       "    </tr>\n",
       "    <tr>\n",
       "      <th>4</th>\n",
       "      <td>1</td>\n",
       "      <td>PAYMENT</td>\n",
       "      <td>11668.14</td>\n",
       "      <td>41554.0</td>\n",
       "      <td>0.0</td>\n",
       "      <td>0</td>\n",
       "      <td>0</td>\n",
       "    </tr>\n",
       "  </tbody>\n",
       "</table>\n",
       "</div>"
      ],
      "text/plain": [
       "   step      type    amount  oldbalanceOrg  oldbalanceDest  isFraud  \\\n",
       "0     1   PAYMENT   9839.64       170136.0             0.0        0   \n",
       "1     1   PAYMENT   1864.28        21249.0             0.0        0   \n",
       "2     1  TRANSFER    181.00          181.0             0.0        1   \n",
       "3     1  CASH_OUT    181.00          181.0         21182.0        1   \n",
       "4     1   PAYMENT  11668.14        41554.0             0.0        0   \n",
       "\n",
       "   isFlaggedFraud  \n",
       "0               0  \n",
       "1               0  \n",
       "2               0  \n",
       "3               0  \n",
       "4               0  "
      ]
     },
     "execution_count": 36,
     "metadata": {},
     "output_type": "execute_result"
    }
   ],
   "source": [
    "df2 = df1.drop(['nameOrig', 'nameDest'], axis = 1) # Dropping ID columns that have very little variance \n",
    "df2.head()"
   ]
  },
  {
   "cell_type": "markdown",
   "id": "0ec8d31a",
   "metadata": {},
   "source": [
    "# converting categorical variables into numerical variables "
   ]
  },
  {
   "cell_type": "code",
   "execution_count": 41,
   "id": "c5b048f7",
   "metadata": {},
   "outputs": [
    {
     "data": {
      "text/html": [
       "<div>\n",
       "<style scoped>\n",
       "    .dataframe tbody tr th:only-of-type {\n",
       "        vertical-align: middle;\n",
       "    }\n",
       "\n",
       "    .dataframe tbody tr th {\n",
       "        vertical-align: top;\n",
       "    }\n",
       "\n",
       "    .dataframe thead th {\n",
       "        text-align: right;\n",
       "    }\n",
       "</style>\n",
       "<table border=\"1\" class=\"dataframe\">\n",
       "  <thead>\n",
       "    <tr style=\"text-align: right;\">\n",
       "      <th></th>\n",
       "      <th>step</th>\n",
       "      <th>amount</th>\n",
       "      <th>oldbalanceOrg</th>\n",
       "      <th>oldbalanceDest</th>\n",
       "      <th>isFraud</th>\n",
       "      <th>isFlaggedFraud</th>\n",
       "      <th>type_CASH_OUT</th>\n",
       "      <th>type_DEBIT</th>\n",
       "      <th>type_PAYMENT</th>\n",
       "      <th>type_TRANSFER</th>\n",
       "    </tr>\n",
       "  </thead>\n",
       "  <tbody>\n",
       "    <tr>\n",
       "      <th>0</th>\n",
       "      <td>1</td>\n",
       "      <td>9839.64</td>\n",
       "      <td>170136.0</td>\n",
       "      <td>0.0</td>\n",
       "      <td>0</td>\n",
       "      <td>0</td>\n",
       "      <td>0</td>\n",
       "      <td>0</td>\n",
       "      <td>1</td>\n",
       "      <td>0</td>\n",
       "    </tr>\n",
       "    <tr>\n",
       "      <th>1</th>\n",
       "      <td>1</td>\n",
       "      <td>1864.28</td>\n",
       "      <td>21249.0</td>\n",
       "      <td>0.0</td>\n",
       "      <td>0</td>\n",
       "      <td>0</td>\n",
       "      <td>0</td>\n",
       "      <td>0</td>\n",
       "      <td>1</td>\n",
       "      <td>0</td>\n",
       "    </tr>\n",
       "    <tr>\n",
       "      <th>2</th>\n",
       "      <td>1</td>\n",
       "      <td>181.00</td>\n",
       "      <td>181.0</td>\n",
       "      <td>0.0</td>\n",
       "      <td>1</td>\n",
       "      <td>0</td>\n",
       "      <td>0</td>\n",
       "      <td>0</td>\n",
       "      <td>0</td>\n",
       "      <td>1</td>\n",
       "    </tr>\n",
       "    <tr>\n",
       "      <th>3</th>\n",
       "      <td>1</td>\n",
       "      <td>181.00</td>\n",
       "      <td>181.0</td>\n",
       "      <td>21182.0</td>\n",
       "      <td>1</td>\n",
       "      <td>0</td>\n",
       "      <td>1</td>\n",
       "      <td>0</td>\n",
       "      <td>0</td>\n",
       "      <td>0</td>\n",
       "    </tr>\n",
       "    <tr>\n",
       "      <th>4</th>\n",
       "      <td>1</td>\n",
       "      <td>11668.14</td>\n",
       "      <td>41554.0</td>\n",
       "      <td>0.0</td>\n",
       "      <td>0</td>\n",
       "      <td>0</td>\n",
       "      <td>0</td>\n",
       "      <td>0</td>\n",
       "      <td>1</td>\n",
       "      <td>0</td>\n",
       "    </tr>\n",
       "  </tbody>\n",
       "</table>\n",
       "</div>"
      ],
      "text/plain": [
       "   step    amount  oldbalanceOrg  oldbalanceDest  isFraud  isFlaggedFraud  \\\n",
       "0     1   9839.64       170136.0             0.0        0               0   \n",
       "1     1   1864.28        21249.0             0.0        0               0   \n",
       "2     1    181.00          181.0             0.0        1               0   \n",
       "3     1    181.00          181.0         21182.0        1               0   \n",
       "4     1  11668.14        41554.0             0.0        0               0   \n",
       "\n",
       "   type_CASH_OUT  type_DEBIT  type_PAYMENT  type_TRANSFER  \n",
       "0              0           0             1              0  \n",
       "1              0           0             1              0  \n",
       "2              0           0             0              1  \n",
       "3              1           0             0              0  \n",
       "4              0           0             1              0  "
      ]
     },
     "execution_count": 41,
     "metadata": {},
     "output_type": "execute_result"
    }
   ],
   "source": [
    "df3 = pd.get_dummies(df2 ,columns =['type'], drop_first = True)\n",
    "df3.head()"
   ]
  },
  {
   "cell_type": "code",
   "execution_count": null,
   "id": "3d926333",
   "metadata": {},
   "outputs": [],
   "source": []
  },
  {
   "cell_type": "code",
   "execution_count": 43,
   "id": "5fe2cbcb",
   "metadata": {},
   "outputs": [],
   "source": [
    "x = df3.drop('isFraud', axis = 1) # the independent variable(s) are assigned to x and\n",
    "y = df['isFraud'] # the dependent variable or target variable is assigned to y.\n"
   ]
  },
  {
   "cell_type": "code",
   "execution_count": null,
   "id": "c587a502",
   "metadata": {},
   "outputs": [],
   "source": []
  },
  {
   "cell_type": "code",
   "execution_count": 44,
   "id": "7989f974",
   "metadata": {},
   "outputs": [],
   "source": [
    "#split the data into training and testing sets for both the independent and dependent variables.\n",
    "X_train, X_test, y_train, y_test = train_test_split(x, y,test_size = 0.2, stratify = y, random_state= 1000)"
   ]
  },
  {
   "cell_type": "code",
   "execution_count": 45,
   "id": "e56d63b9",
   "metadata": {},
   "outputs": [
    {
     "name": "stdout",
     "output_type": "stream",
     "text": [
      "Shape of X_train : (5090096, 9)\n",
      "Shape of y_train : (5090096,)\n",
      "Shape of X_test : (1272524, 9)\n",
      "Shape of y_test : (1272524,)\n"
     ]
    }
   ],
   "source": [
    "print('Shape of X_train :',X_train.shape)\n",
    "print('Shape of y_train :',y_train.shape)\n",
    "print('Shape of X_test :',X_test.shape)\n",
    "print('Shape of y_test :',y_test.shape)"
   ]
  },
  {
   "cell_type": "code",
   "execution_count": 50,
   "id": "5e0a7a82",
   "metadata": {},
   "outputs": [
    {
     "data": {
      "text/plain": [
       "(0    99.870926\n",
       " 1     0.129074\n",
       " Name: isFraud, dtype: float64,\n",
       " 0    99.870887\n",
       " 1     0.129113\n",
       " Name: isFraud, dtype: float64)"
      ]
     },
     "execution_count": 50,
     "metadata": {},
     "output_type": "execute_result"
    }
   ],
   "source": [
    "y_train.value_counts(normalize = True)*100, y_test.value_counts(normalize = True)*100"
   ]
  },
  {
   "cell_type": "code",
   "execution_count": 52,
   "id": "761ca198",
   "metadata": {},
   "outputs": [],
   "source": [
    "num = ['step', 'amount', 'oldbalanceOrg', 'oldbalanceDest']"
   ]
  },
  {
   "cell_type": "markdown",
   "id": "23797958",
   "metadata": {},
   "source": [
    "# feature scaling on the numerical columns of the dataset."
   ]
  },
  {
   "cell_type": "code",
   "execution_count": 53,
   "id": "8103bfe5",
   "metadata": {},
   "outputs": [],
   "source": [
    "scaler = StandardScaler()\n",
    "scaler.fit(X_train[num]) #  computes the mean and standard deviation of each numerical feature\n",
    "\n",
    "X_train[num] = scaler.transform(X_train[num])\n",
    "X_test[num] = scaler.transform(X_test[num])"
   ]
  },
  {
   "cell_type": "code",
   "execution_count": 54,
   "id": "03e01687",
   "metadata": {},
   "outputs": [
    {
     "data": {
      "text/html": [
       "<div>\n",
       "<style scoped>\n",
       "    .dataframe tbody tr th:only-of-type {\n",
       "        vertical-align: middle;\n",
       "    }\n",
       "\n",
       "    .dataframe tbody tr th {\n",
       "        vertical-align: top;\n",
       "    }\n",
       "\n",
       "    .dataframe thead th {\n",
       "        text-align: right;\n",
       "    }\n",
       "</style>\n",
       "<table border=\"1\" class=\"dataframe\">\n",
       "  <thead>\n",
       "    <tr style=\"text-align: right;\">\n",
       "      <th></th>\n",
       "      <th>step</th>\n",
       "      <th>amount</th>\n",
       "      <th>oldbalanceOrg</th>\n",
       "      <th>oldbalanceDest</th>\n",
       "      <th>isFlaggedFraud</th>\n",
       "      <th>type_CASH_OUT</th>\n",
       "      <th>type_DEBIT</th>\n",
       "      <th>type_PAYMENT</th>\n",
       "      <th>type_TRANSFER</th>\n",
       "    </tr>\n",
       "  </thead>\n",
       "  <tbody>\n",
       "    <tr>\n",
       "      <th>5522754</th>\n",
       "      <td>0.960024</td>\n",
       "      <td>-0.295062</td>\n",
       "      <td>-0.248782</td>\n",
       "      <td>-0.325590</td>\n",
       "      <td>0</td>\n",
       "      <td>0</td>\n",
       "      <td>0</td>\n",
       "      <td>1</td>\n",
       "      <td>0</td>\n",
       "    </tr>\n",
       "    <tr>\n",
       "      <th>3742791</th>\n",
       "      <td>0.250409</td>\n",
       "      <td>-0.287252</td>\n",
       "      <td>-0.277738</td>\n",
       "      <td>-0.325590</td>\n",
       "      <td>0</td>\n",
       "      <td>0</td>\n",
       "      <td>0</td>\n",
       "      <td>1</td>\n",
       "      <td>0</td>\n",
       "    </tr>\n",
       "    <tr>\n",
       "      <th>2220399</th>\n",
       "      <td>-0.402998</td>\n",
       "      <td>0.045540</td>\n",
       "      <td>-0.288723</td>\n",
       "      <td>0.057477</td>\n",
       "      <td>0</td>\n",
       "      <td>1</td>\n",
       "      <td>0</td>\n",
       "      <td>0</td>\n",
       "      <td>0</td>\n",
       "    </tr>\n",
       "    <tr>\n",
       "      <th>1358072</th>\n",
       "      <td>-0.740241</td>\n",
       "      <td>-0.161751</td>\n",
       "      <td>-0.287251</td>\n",
       "      <td>-0.325590</td>\n",
       "      <td>0</td>\n",
       "      <td>1</td>\n",
       "      <td>0</td>\n",
       "      <td>0</td>\n",
       "      <td>0</td>\n",
       "    </tr>\n",
       "    <tr>\n",
       "      <th>57562</th>\n",
       "      <td>-1.646581</td>\n",
       "      <td>-0.071344</td>\n",
       "      <td>-0.265624</td>\n",
       "      <td>-0.324101</td>\n",
       "      <td>0</td>\n",
       "      <td>1</td>\n",
       "      <td>0</td>\n",
       "      <td>0</td>\n",
       "      <td>0</td>\n",
       "    </tr>\n",
       "  </tbody>\n",
       "</table>\n",
       "</div>"
      ],
      "text/plain": [
       "             step    amount  oldbalanceOrg  oldbalanceDest  isFlaggedFraud  \\\n",
       "5522754  0.960024 -0.295062      -0.248782       -0.325590               0   \n",
       "3742791  0.250409 -0.287252      -0.277738       -0.325590               0   \n",
       "2220399 -0.402998  0.045540      -0.288723        0.057477               0   \n",
       "1358072 -0.740241 -0.161751      -0.287251       -0.325590               0   \n",
       "57562   -1.646581 -0.071344      -0.265624       -0.324101               0   \n",
       "\n",
       "         type_CASH_OUT  type_DEBIT  type_PAYMENT  type_TRANSFER  \n",
       "5522754              0           0             1              0  \n",
       "3742791              0           0             1              0  \n",
       "2220399              1           0             0              0  \n",
       "1358072              1           0             0              0  \n",
       "57562                1           0             0              0  "
      ]
     },
     "execution_count": 54,
     "metadata": {},
     "output_type": "execute_result"
    }
   ],
   "source": [
    "X_train.head()"
   ]
  },
  {
   "cell_type": "markdown",
   "id": "e25b56f1",
   "metadata": {},
   "source": [
    "# Model Building"
   ]
  },
  {
   "cell_type": "markdown",
   "id": "431fbb1b",
   "metadata": {},
   "source": [
    "# DecisionTreeClassifier"
   ]
  },
  {
   "cell_type": "code",
   "execution_count": 63,
   "id": "15119135",
   "metadata": {},
   "outputs": [
    {
     "name": "stdout",
     "output_type": "stream",
     "text": [
      "Train Accuracy: 0.998954243692064\n",
      "Test Accuracy: 0.9989956967412795\n",
      "Train classification_report\n",
      "              precision    recall  f1-score   support\n",
      "\n",
      "           0       1.00      1.00      1.00   5083526\n",
      "           1       0.73      0.30      0.43      6570\n",
      "\n",
      "    accuracy                           1.00   5090096\n",
      "   macro avg       0.86      0.65      0.71   5090096\n",
      "weighted avg       1.00      1.00      1.00   5090096\n",
      "\n",
      "Test classification_report\n",
      "              precision    recall  f1-score   support\n",
      "\n",
      "           0       1.00      1.00      1.00   1270881\n",
      "           1       0.76      0.33      0.46      1643\n",
      "\n",
      "    accuracy                           1.00   1272524\n",
      "   macro avg       0.88      0.66      0.73   1272524\n",
      "weighted avg       1.00      1.00      1.00   1272524\n",
      "\n",
      "Train confusion_matrix\n",
      "[[5082786     740]\n",
      " [   4583    1987]]\n",
      "Test confusion_matrix\n",
      "[[1270712     169]\n",
      " [   1109     534]]\n"
     ]
    }
   ],
   "source": [
    "\n",
    "clf_dt = DecisionTreeClassifier(max_depth=4 , class_weight = {0: 1, 1: 5}, random_state=1000)\n",
    "clf_dt.fit(X_train, y_train)\n",
    "\n",
    "y_pred_train = clf_dt.predict(X_train)\n",
    "y_pred_test = clf_dt.predict(X_test)\n",
    "\n",
    "print(\"Train Accuracy:\", accuracy_score(y_train,y_pred_train))\n",
    "print(\"Test Accuracy:\",accuracy_score(y_test,y_pred_test))\n",
    "\n",
    "print('Train classification_report')\n",
    "print(classification_report(y_train,y_pred_train))\n",
    "print('Test classification_report')\n",
    "print( classification_report(y_test,y_pred_test))\n",
    "\n",
    "\n",
    "print('Train confusion_matrix')\n",
    "print(confusion_matrix(y_train, y_pred_train))\n",
    "print('Test confusion_matrix')\n",
    "print(confusion_matrix(y_test, y_pred_test))"
   ]
  },
  {
   "cell_type": "markdown",
   "id": "512c52a2",
   "metadata": {},
   "source": [
    "# RandomForestClassifier"
   ]
  },
  {
   "cell_type": "code",
   "execution_count": 84,
   "id": "a9ba696f",
   "metadata": {},
   "outputs": [
    {
     "name": "stdout",
     "output_type": "stream",
     "text": [
      "Train Accuracy: 0.9993017813416486\n",
      "Test Accuracy: 0.999332822013573\n",
      "Train classification_report\n",
      "              precision    recall  f1-score   support\n",
      "\n",
      "           0       1.00      1.00      1.00   5083526\n",
      "           1       0.98      0.47      0.63      6570\n",
      "\n",
      "    accuracy                           1.00   5090096\n",
      "   macro avg       0.99      0.73      0.82   5090096\n",
      "weighted avg       1.00      1.00      1.00   5090096\n",
      "\n",
      "Test classification_report\n",
      "              precision    recall  f1-score   support\n",
      "\n",
      "           0       1.00      1.00      1.00   1270881\n",
      "           1       0.98      0.49      0.66      1643\n",
      "\n",
      "    accuracy                           1.00   1272524\n",
      "   macro avg       0.99      0.75      0.83   1272524\n",
      "weighted avg       1.00      1.00      1.00   1272524\n",
      "\n",
      "Train confusion_matrix\n",
      "[[5083474      52]\n",
      " [   3502    3068]]\n",
      "Test confusion_matrix\n",
      "[[1270865      16]\n",
      " [    833     810]]\n"
     ]
    }
   ],
   "source": [
    "clf_rf = RandomForestClassifier(n_estimators= 25 , max_depth = 10,max_samples= 0.8, random_state= 1000)\n",
    "\n",
    "\n",
    "clf_rf.fit(X_train, y_train)\n",
    "\n",
    "y_pred_train = clf_rf.predict(X_train)\n",
    "y_pred_test = clf_rf.predict(X_test)\n",
    "\n",
    "print(\"Train Accuracy:\", accuracy_score(y_train,y_pred_train))\n",
    "print(\"Test Accuracy:\",accuracy_score(y_test,y_pred_test))\n",
    "\n",
    "print('Train classification_report')\n",
    "print(classification_report(y_train,y_pred_train))\n",
    "print('Test classification_report')\n",
    "print( classification_report(y_test,y_pred_test))\n",
    "\n",
    "\n",
    "print('Train confusion_matrix')\n",
    "print(confusion_matrix(y_train, y_pred_train))\n",
    "print('Test confusion_matrix')\n",
    "print(confusion_matrix(y_test, y_pred_test))"
   ]
  },
  {
   "cell_type": "markdown",
   "id": "cda517fc",
   "metadata": {},
   "source": [
    "# XGBClassifier"
   ]
  },
  {
   "cell_type": "code",
   "execution_count": 89,
   "id": "267bba0d",
   "metadata": {},
   "outputs": [
    {
     "name": "stdout",
     "output_type": "stream",
     "text": [
      "Train Accuracy: 0.9999296673382978\n",
      "Test Accuracy: 0.9996487296113865\n",
      "Train classification_report\n",
      "              precision    recall  f1-score   support\n",
      "\n",
      "           0       1.00      1.00      1.00   5083526\n",
      "           1       1.00      0.95      0.97      6570\n",
      "\n",
      "    accuracy                           1.00   5090096\n",
      "   macro avg       1.00      0.97      0.99   5090096\n",
      "weighted avg       1.00      1.00      1.00   5090096\n",
      "\n",
      "Test classification_report\n",
      "              precision    recall  f1-score   support\n",
      "\n",
      "           0       1.00      1.00      1.00   1270881\n",
      "           1       0.92      0.80      0.85      1643\n",
      "\n",
      "    accuracy                           1.00   1272524\n",
      "   macro avg       0.96      0.90      0.93   1272524\n",
      "weighted avg       1.00      1.00      1.00   1272524\n",
      "\n",
      "Train confusion_matrix\n",
      "[[5083512      14]\n",
      " [    344    6226]]\n",
      "Test confusion_matrix\n",
      "[[1270765     116]\n",
      " [    331    1312]]\n"
     ]
    }
   ],
   "source": [
    "import xgboost\n",
    "from xgboost import XGBClassifier\n",
    "XGB_model = XGBClassifier(n_estimators=30 , max_depth = 30, random_state = 1000)\n",
    "XGB_model.fit(X_train, y_train)\n",
    "\n",
    "y_pred_train = XGB_model.predict(X_train)\n",
    "y_pred_test = XGB_model.predict(X_test)\n",
    "\n",
    "print(\"Train Accuracy:\", accuracy_score(y_train,y_pred_train))\n",
    "print(\"Test Accuracy:\",accuracy_score(y_test,y_pred_test))\n",
    "\n",
    "print('Train classification_report')\n",
    "print(classification_report(y_train,y_pred_train))\n",
    "print('Test classification_report')\n",
    "print( classification_report(y_test,y_pred_test))\n",
    "\n",
    "\n",
    "print('Train confusion_matrix')\n",
    "print(confusion_matrix(y_train, y_pred_train))\n",
    "print('Test confusion_matrix')\n",
    "print(confusion_matrix(y_test, y_pred_test))"
   ]
  },
  {
   "cell_type": "code",
   "execution_count": 93,
   "id": "1938f036",
   "metadata": {},
   "outputs": [
    {
     "name": "stdout",
     "output_type": "stream",
     "text": [
      "Train Accuracy: 1.0\n",
      "Test Accuracy: 0.9997053100766665\n",
      "Train classification_report\n",
      "              precision    recall  f1-score   support\n",
      "\n",
      "           0       1.00      1.00      1.00   5083526\n",
      "           1       1.00      1.00      1.00      6570\n",
      "\n",
      "    accuracy                           1.00   5090096\n",
      "   macro avg       1.00      1.00      1.00   5090096\n",
      "weighted avg       1.00      1.00      1.00   5090096\n",
      "\n",
      "Test classification_report\n",
      "              precision    recall  f1-score   support\n",
      "\n",
      "           0       1.00      1.00      1.00   1270881\n",
      "           1       0.93      0.84      0.88      1643\n",
      "\n",
      "    accuracy                           1.00   1272524\n",
      "   macro avg       0.96      0.92      0.94   1272524\n",
      "weighted avg       1.00      1.00      1.00   1272524\n",
      "\n",
      "Train confusion_matrix\n",
      "[[5083526       0]\n",
      " [      0    6570]]\n",
      "Test confusion_matrix\n",
      "[[1270772     109]\n",
      " [    266    1377]]\n"
     ]
    }
   ],
   "source": [
    "import xgboost\n",
    "from xgboost import XGBClassifier\n",
    "XGB_model = XGBClassifier(n_estimators= 200 , max_depth = 100, random_state = 1234)\n",
    "XGB_model.fit(X_train, y_train)\n",
    "\n",
    "y_pred_train = XGB_model.predict(X_train)\n",
    "y_pred_test = XGB_model.predict(X_test)\n",
    "\n",
    "print(\"Train Accuracy:\", accuracy_score(y_train,y_pred_train))\n",
    "print(\"Test Accuracy:\",accuracy_score(y_test,y_pred_test))\n",
    "\n",
    "print('Train classification_report')\n",
    "print(classification_report(y_train,y_pred_train))\n",
    "print('Test classification_report')\n",
    "print( classification_report(y_test,y_pred_test))\n",
    "\n",
    "\n",
    "print('Train confusion_matrix')\n",
    "print(confusion_matrix(y_train, y_pred_train))\n",
    "print('Test confusion_matrix')\n",
    "print(confusion_matrix(y_test, y_pred_test))"
   ]
  },
  {
   "cell_type": "code",
   "execution_count": null,
   "id": "81e9a505",
   "metadata": {},
   "outputs": [],
   "source": []
  },
  {
   "cell_type": "code",
   "execution_count": null,
   "id": "cc48745d",
   "metadata": {},
   "outputs": [],
   "source": []
  },
  {
   "cell_type": "markdown",
   "id": "8a100e3a",
   "metadata": {},
   "source": [
    "# Hyperparameter Tunning"
   ]
  },
  {
   "cell_type": "code",
   "execution_count": 97,
   "id": "48905062",
   "metadata": {},
   "outputs": [],
   "source": [
    "from sklearn.model_selection import RandomizedSearchCV\n",
    "XGB = XGBClassifier()\n",
    "\n",
    "\n",
    "params = {    'max_depth': [100, 150, 200, 200],\n",
    "              'subsample': np.arange(0.7, 1.0, 0.1),\n",
    "              'n_estimators': [100, 250, 300, 500],\n",
    "              \n",
    "              }"
   ]
  },
  {
   "cell_type": "code",
   "execution_count": 101,
   "id": "76d282a8",
   "metadata": {},
   "outputs": [],
   "source": [
    "clf_ran = RandomizedSearchCV(estimator=XGB,\n",
    "                             param_distributions=params,\n",
    "                             scoring='accuracy',\n",
    "                             n_iter=25,\n",
    "                \n",
    "                             verbose=1)"
   ]
  },
  {
   "cell_type": "code",
   "execution_count": null,
   "id": "74571d5b",
   "metadata": {},
   "outputs": [
    {
     "name": "stdout",
     "output_type": "stream",
     "text": [
      "Fitting 5 folds for each of 25 candidates, totalling 125 fits\n"
     ]
    }
   ],
   "source": [
    "clf_ran.fit(X_train, y_train)\n"
   ]
  },
  {
   "cell_type": "code",
   "execution_count": null,
   "id": "3641ad57",
   "metadata": {},
   "outputs": [],
   "source": [
    "clf_ran.best_params_  \n"
   ]
  },
  {
   "cell_type": "code",
   "execution_count": null,
   "id": "671c0f8f",
   "metadata": {},
   "outputs": [],
   "source": [
    "y_pred_train=clf_ran.predict(X_train)\n",
    "y_pred_test=clf_ran.predict(X_test)"
   ]
  },
  {
   "cell_type": "code",
   "execution_count": null,
   "id": "a64996d3",
   "metadata": {},
   "outputs": [],
   "source": []
  },
  {
   "cell_type": "markdown",
   "id": "2a24c594",
   "metadata": {},
   "source": [
    "# About model selection"
   ]
  },
  {
   "cell_type": "markdown",
   "id": "fbd61349",
   "metadata": {},
   "source": [
    "**1)**.I have used Ensemble methods such as **Random Forest**, and **Boosting** are useful when working with imbalanced datasets because they combine multiple models to improve the overall accuracy. "
   ]
  },
  {
   "cell_type": "markdown",
   "id": "6a8dd12a",
   "metadata": {},
   "source": [
    "* In this problem it is important to minimize false positives to prevent **fraudulent transactions from being incorrectly flagged as legitimate**, which could lead to loss of revenue and customer dissatisfaction.\n",
    "\n",
    "\"We have seen that **XGBoost** has a higher accuracy and lower misclassification rate than **Random Forest**. Therefore, we can conclude that **XGBoost** is a better model compared to Random Forest.\""
   ]
  },
  {
   "cell_type": "markdown",
   "id": "7d68500e",
   "metadata": {},
   "source": [
    "# 2).**What are the key factors that predict fraudulent customer?** \n"
   ]
  },
  {
   "cell_type": "markdown",
   "id": "abd26480",
   "metadata": {},
   "source": [
    "\n",
    "1). **Abnormal Behavior:** One of the most significant indicators of fraudulent activities is abnormal behavior. This can include transactions outside of regular business hours, large transactions outside of typical purchasing patterns, and an unusually high number of failed login attempts.\n",
    "\n",
    "2). **Geolocation:** The geographic location of the customer can also be an important factor in predicting fraudulent activities. This includes monitoring transactions from countries known for high rates of fraud, transactions from an unexpected location, and transactions from a location that does not match the billing address.\n",
    "\n",
    "3). **Behavioral Analytics:** This also includes analyzing the frequency of transactions, the amount of time spent on the site, and the type of products or services being purchased.\n"
   ]
  },
  {
   "cell_type": "code",
   "execution_count": null,
   "id": "098bde97",
   "metadata": {},
   "outputs": [],
   "source": []
  },
  {
   "cell_type": "markdown",
   "id": "5104530b",
   "metadata": {},
   "source": [
    "# 3).What kind of prevention should be adopted while company update its infrastructure?"
   ]
  },
  {
   "cell_type": "markdown",
   "id": "e2548515",
   "metadata": {},
   "source": [
    "\n",
    "1).**Implement Strong Authentication and Authorization Mechanisms:** Strong authentication and authorization mechanisms can help prevent unauthorized access to the infrastructure. This includes using multi-factor authentication, password policies, and role-based access control.\n",
    "\n",
    "2).**Monitor Transactions for Anomalies:** Companies should monitor transactions for any unusual patterns or anomalies that may indicate fraudulent activity. This includes monitoring for unusual transaction amounts, multiple transactions from the same account, and transactions from high-risk countries.\n",
    "\n",
    "3).**Implement Fraud Detection Systems:** Fraud detection systems can help identify potentially fraudulent transactions in real-time. This includes implementing machine learning algorithms that can detect suspicious patterns and behaviors.\n",
    "\n",
    "4).**Educate Customers:** Companies should educate their customers on how to protect their accounts from fraud. This includes providing information on how to create strong passwords, how to recognize phishing scams, and how to report fraudulent activity."
   ]
  },
  {
   "cell_type": "code",
   "execution_count": null,
   "id": "2b596fe3",
   "metadata": {},
   "outputs": [],
   "source": []
  },
  {
   "cell_type": "markdown",
   "id": "8906a2a9",
   "metadata": {},
   "source": [
    "# 4).Assuming these actions have been implemented, how would you determine if they work?\n"
   ]
  },
  {
   "cell_type": "markdown",
   "id": "a68d0e6b",
   "metadata": {},
   "source": [
    "\n",
    "1).**Analysis of Fraudulent Transactions:** Companies can analyze past fraudulent transactions to identify any patterns or commonalities. This can help identify any gaps in the current prevention measures and provide insights on how to further strengthen the security measures.\n",
    "\n",
    "2).**Regular Risk Assessment:** Regular risk assessments can help identify new risks and vulnerabilities that may have arisen since the implementation of the prevention measures. This can help ensure that the prevention measures are up-to-date and effective.\n",
    "\n",
    "3).**Monitoring of Key Performance Indicators (KPIs):** Key performance indicators such as the number of fraudulent transactions and the cost of fraud can be used to monitor the effectiveness of the prevention measures. Companies can compare these KPIs before and after implementing the prevention measures to determine if they have reduced the occurrence and cost of fraud.\n",
    "\n",
    "4).**Feedback from Customers and Employees:** Feedback from customers and employees can be used to identify any potential weaknesses in the prevention measures. This can include customer complaints, suggestions, and feedback from employees who interact with customers directly."
   ]
  },
  {
   "cell_type": "code",
   "execution_count": null,
   "id": "6ccb66e4",
   "metadata": {},
   "outputs": [],
   "source": []
  },
  {
   "cell_type": "code",
   "execution_count": null,
   "id": "1aba711e",
   "metadata": {},
   "outputs": [],
   "source": []
  }
 ],
 "metadata": {
  "kernelspec": {
   "display_name": "Python 3 (ipykernel)",
   "language": "python",
   "name": "python3"
  },
  "language_info": {
   "codemirror_mode": {
    "name": "ipython",
    "version": 3
   },
   "file_extension": ".py",
   "mimetype": "text/x-python",
   "name": "python",
   "nbconvert_exporter": "python",
   "pygments_lexer": "ipython3",
   "version": "3.10.9"
  }
 },
 "nbformat": 4,
 "nbformat_minor": 5
}
